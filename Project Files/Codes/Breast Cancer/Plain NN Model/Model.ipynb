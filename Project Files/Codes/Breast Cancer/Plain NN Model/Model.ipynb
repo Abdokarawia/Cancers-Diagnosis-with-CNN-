{
 "cells": [
  {
   "cell_type": "code",
   "execution_count": 235,
   "metadata": {},
   "outputs": [],
   "source": [
    "import h5py\n",
    "from PIL import Image #It is a preferred image manipulation tool. In Python 3,\n",
    "# Pillow python library which is nothing but the upgradation of PIL only.\n",
    "import numpy as np\n",
    "from numpy import asarray\n",
    "import matplotlib.pyplot as plt\n",
    "import os, sys\n",
    "from fns import *\n"
   ]
  },
  {
   "cell_type": "code",
   "execution_count": 203,
   "metadata": {},
   "outputs": [],
   "source": [
    "Train_x_set = np.full((1, 200,200,3), 0)  #Initialize array for images array records\n"
   ]
  },
  {
   "cell_type": "code",
   "execution_count": 285,
   "metadata": {},
   "outputs": [],
   "source": [
    "Test_x_set = np.full((1, 200,200,3), 0)  #Initialize array for images array records"
   ]
  },
  {
   "cell_type": "code",
   "execution_count": 204,
   "metadata": {},
   "outputs": [],
   "source": [
    "hp_train = h5py.File('Train_Datasets.h5', 'w')   # H5py file for train datsets\n",
    "hp_test = h5py.File('Test_Datasets.h5', 'w')     # H5py file for test datsets"
   ]
  },
  {
   "cell_type": "code",
   "execution_count": 205,
   "metadata": {},
   "outputs": [
    {
     "name": "stdout",
     "output_type": "stream",
     "text": [
      "350\n"
     ]
    }
   ],
   "source": [
    "benign_train_path = \"C:/Users/bahaa/Breast Cancer Project/Dataset/benign/train_set/\"\n",
    "benign_train = os.listdir(benign_train_path)\n",
    "trainB_y = [1]*len(benign_train)     # Create list of 1 with length of benign_train records\n",
    "classesB = ['Benign']*len(benign_train)     # Create list of benign class with length of benign_train records\n",
    "print(len(benign_train))\n",
    "\n",
    "malignant_train_path = \"C:/Users/bahaa/Breast Cancer Project/Dataset/malignant/train_set/\"\n",
    "malignant_train = os.listdir(malignant_train_path)\n",
    "trainM_y = [0]*len(malignant_train) # Create list of 0 with length of malignant_train records\n",
    "classesM = ['Malignant']*len(malignant_train)     # Create list of malignant class with length of benign_train records\n",
    "len(malignant_train)\n",
    "\n",
    "Train_y_set = [*trainB_y, *trainM_y]   # astreisk * sign to unpack the list elements\n",
    "classes_train = [*classesB, *classesM]   # astreisk * sign to unpack the list elements\n",
    "\n",
    "ascii_classes_List = [n.encode(\"ascii\", \"ignore\") for n in classes_train]  # Must be encoded as hdf5 cannot \n",
    "# understand normal numpy strings\n"
   ]
  },
  {
   "cell_type": "code",
   "execution_count": 286,
   "metadata": {},
   "outputs": [
    {
     "name": "stdout",
     "output_type": "stream",
     "text": [
      "86\n",
      "50\n"
     ]
    }
   ],
   "source": [
    "benign_test_path = \"C:/Users/bahaa/Breast Cancer Project/Dataset/benign/test_set/\"\n",
    "benign_test = os.listdir(benign_test_path)\n",
    "trainB_y = [1]*len(benign_test)     # Create list of 1 with length of benign_train records\n",
    "print(len(benign_test))\n",
    "\n",
    "malignant_test_path = \"C:/Users/bahaa/Breast Cancer Project/Dataset/malignant/test_set/\"\n",
    "malignant_test = os.listdir(malignant_test_path)\n",
    "trainM_y = [0]*len(malignant_test) # Create list of 0 with length of malignant_train records\n",
    "print(len(malignant_test))\n",
    "\n",
    "Test_y_set = [*trainB_y, *trainM_y]   # astreisk * sign to unpack the list elements"
   ]
  },
  {
   "cell_type": "code",
   "execution_count": 206,
   "metadata": {},
   "outputs": [],
   "source": [
    "for item in benign_train:\n",
    "    with Image.open(benign_train_path+item) as im:\n",
    "        img_array = np.array(im)\n",
    "        img_array = img_array[np.newaxis, :,:,:] #Convert 3dim to 4 dim array (records)\n",
    "        Train_x_set = np.append(Train_x_set, img_array, axis = 0)  # axis 3 for the 4rth dim cloumn \n",
    "        im.close()\n",
    "for item in malignant_train:\n",
    "    with Image.open(malignant_train_path+item) as im:\n",
    "        img_array = np.array(im)\n",
    "        img_array = img_array[np.newaxis, :,:,:] #Convert 3dim to 4 dim array (records)\n",
    "        Train_x_set = np.append(Train_x_set, img_array, axis = 0)  # axis 3 for the 4rth dim cloumn \n",
    "        im.close()"
   ]
  },
  {
   "cell_type": "code",
   "execution_count": 287,
   "metadata": {},
   "outputs": [],
   "source": [
    "for item in benign_test:\n",
    "    with Image.open(benign_test_path+item) as im:\n",
    "        img_array = np.array(im)\n",
    "        img_array = img_array[np.newaxis, :,:,:] #Convert 3dim to 4 dim array (records)\n",
    "        Test_x_set = np.append(Test_x_set, img_array, axis = 0)  # axis 3 for the 4rth dim cloumn \n",
    "        im.close()\n",
    "for item in malignant_test:\n",
    "    with Image.open(malignant_test_path+item) as im:\n",
    "        img_array = np.array(im)\n",
    "        img_array = img_array[np.newaxis, :,:,:] #Convert 3dim to 4 dim array (records)\n",
    "        Test_x_set = np.append(Test_x_set, img_array, axis = 0)  # axis 3 for the 4rth dim cloumn \n",
    "        im.close()"
   ]
  },
  {
   "cell_type": "code",
   "execution_count": 207,
   "metadata": {},
   "outputs": [
    {
     "data": {
      "text/plain": [
       "<HDF5 dataset \"Train_x_set\": shape (510, 200, 200, 3), type \"<i4\">"
      ]
     },
     "execution_count": 207,
     "metadata": {},
     "output_type": "execute_result"
    }
   ],
   "source": [
    "hp_train.create_dataset('Train_x_set', data= Train_x_set[1:])  # Create train_x_set dataset in the h5py file\n",
    "# first element is zeros"
   ]
  },
  {
   "cell_type": "code",
   "execution_count": 288,
   "metadata": {},
   "outputs": [
    {
     "data": {
      "text/plain": [
       "<HDF5 dataset \"Test_x_set\": shape (136, 200, 200, 3), type \"<i4\">"
      ]
     },
     "execution_count": 288,
     "metadata": {},
     "output_type": "execute_result"
    }
   ],
   "source": [
    "hp_train.create_dataset('Test_x_set', data= Test_x_set[1:])  # Create train_x_set dataset in the h5py file"
   ]
  },
  {
   "cell_type": "code",
   "execution_count": 208,
   "metadata": {},
   "outputs": [
    {
     "data": {
      "text/plain": [
       "<HDF5 dataset \"Train_y_set\": shape (510,), type \"<i4\">"
      ]
     },
     "execution_count": 208,
     "metadata": {},
     "output_type": "execute_result"
    }
   ],
   "source": [
    "hp_train.create_dataset('Train_y_set', data= Train_y_set)  # Create train_y_set dataset in the h5py file\n"
   ]
  },
  {
   "cell_type": "code",
   "execution_count": 289,
   "metadata": {},
   "outputs": [
    {
     "data": {
      "text/plain": [
       "<HDF5 dataset \"Test_y_set\": shape (136,), type \"<i4\">"
      ]
     },
     "execution_count": 289,
     "metadata": {},
     "output_type": "execute_result"
    }
   ],
   "source": [
    "hp_train.create_dataset('Test_y_set', data= Test_y_set)  # Create train_y_set dataset in the h5py file"
   ]
  },
  {
   "cell_type": "code",
   "execution_count": 209,
   "metadata": {},
   "outputs": [
    {
     "data": {
      "text/plain": [
       "<HDF5 dataset \"classes_train\": shape (510,), type \"|S9\">"
      ]
     },
     "execution_count": 209,
     "metadata": {},
     "output_type": "execute_result"
    }
   ],
   "source": [
    "hp_train.create_dataset('classes_train', data= ascii_classes_List)  # Create train_y_set dataset in the h5py file"
   ]
  },
  {
   "cell_type": "code",
   "execution_count": 224,
   "metadata": {},
   "outputs": [],
   "source": [
    "train_x_orig = np.array(hp_train[\"Train_x_set\"][:])\n",
    "train_set_y = np.array(hp_train[\"Train_y_set\"][:]) \n",
    "classes = np.array(hp_train[\"classes_train\"][:]) # the list of classes\n"
   ]
  },
  {
   "cell_type": "code",
   "execution_count": 290,
   "metadata": {},
   "outputs": [],
   "source": [
    "test_x_orig = np.array(hp_train[\"Test_x_set\"][:])\n",
    "test_set_y = np.array(hp_train[\"Test_y_set\"][:]) "
   ]
  },
  {
   "cell_type": "code",
   "execution_count": 225,
   "metadata": {},
   "outputs": [
    {
     "name": "stdout",
     "output_type": "stream",
     "text": [
      "Number of training examples: 510\n",
      "Each image is of size: (200, 200, 3)\n",
      "train_x_orig shape: (510, 200, 200, 3)\n",
      "train_y shape: (510,)\n"
     ]
    }
   ],
   "source": [
    "# Explore your dataset \n",
    "m_train = train_x_orig.shape[0]\n",
    "num_px = train_x_orig.shape[1]\n",
    "\n",
    "print (\"Number of training examples: \" + str(m_train))\n",
    "print (\"Each image is of size: (\" + str(num_px) + \", \" + str(num_px) + \", 3)\")\n",
    "print (\"train_x_orig shape: \" + str(train_x_orig.shape))\n",
    "print (\"train_y shape: \" + str(train_set_y.shape))\n"
   ]
  },
  {
   "cell_type": "code",
   "execution_count": 293,
   "metadata": {},
   "outputs": [
    {
     "name": "stdout",
     "output_type": "stream",
     "text": [
      "Number of test examples: 136\n",
      "Each image is of size: (136, 136, 3)\n",
      "test_x_orig shape: (136, 200, 200, 3)\n",
      "test_y shape: (136,)\n"
     ]
    }
   ],
   "source": [
    "# Explore your dataset \n",
    "m_test = test_x_orig.shape[0]\n",
    "num_px = test_set_y.shape[0]\n",
    "\n",
    "print (\"Number of test examples: \" + str(m_test))\n",
    "print (\"Each image is of size: (\" + str(num_px) + \", \" + str(num_px) + \", 3)\")\n",
    "print (\"test_x_orig shape: \" + str(test_x_orig.shape))\n",
    "print (\"test_y shape: \" + str(test_set_y.shape))\n"
   ]
  },
  {
   "cell_type": "code",
   "execution_count": 233,
   "metadata": {},
   "outputs": [
    {
     "name": "stdout",
     "output_type": "stream",
     "text": [
      "y = 1. It's a Benign picture.\n"
     ]
    },
    {
     "data": {
      "image/png": "[encoded data removed]",
      "text/plain": [
       "<Figure size 432x288 with 1 Axes>"
      ]
     },
     "metadata": {
      "needs_background": "light"
     },
     "output_type": "display_data"
    }
   ],
   "source": [
    "# Example of a picture\n",
    "index = 100\n",
    "plt.imshow(train_x_orig[index])\n",
    "print (\"y = \" + str(train_set_y[index]) + \". It's a \" + classes[index].decode(\"ascii\") +  \" picture.\")"
   ]
  },
  {
   "cell_type": "code",
   "execution_count": 234,
   "metadata": {},
   "outputs": [
    {
     "name": "stdout",
     "output_type": "stream",
     "text": [
      "train_x's shape: (120000, 510)\n"
     ]
    }
   ],
   "source": [
    "# Reshape the training and test examples \n",
    "train_x_flatten = train_x_orig.reshape(train_x_orig.shape[0], -1).T   # The \"-1\" makes reshape flatten the remaining dimensions\n",
    "#test_x_flatten = test_x_orig.reshape(test_x_orig.shape[0], -1).T\n",
    "\n",
    "# Standardize data to have feature values between 0 and 1.\n",
    "train_x = train_x_flatten/255.\n",
    "#test_x = test_x_flatten/255.\n",
    "\n",
    "print (\"train_x's shape: \" + str(train_x.shape))\n",
    "#print (\"test_x's shape: \" + str(test_x.shape))"
   ]
  },
  {
   "cell_type": "code",
   "execution_count": 294,
   "metadata": {},
   "outputs": [
    {
     "name": "stdout",
     "output_type": "stream",
     "text": [
      "test_x's shape: (120000, 136)\n"
     ]
    }
   ],
   "source": [
    "test_x_flatten = test_x_orig.reshape(test_x_orig.shape[0], -1).T\n",
    "test_x = test_x_flatten/255\n",
    "print (\"test_x's shape: \" + str(test_x.shape))"
   ]
  },
  {
   "cell_type": "code",
   "execution_count": 236,
   "metadata": {},
   "outputs": [],
   "source": [
    "### CONSTANTS DEFINING THE MODEL ####\n",
    "n_x = 120000     # num_px * num_px * 3\n",
    "n_h = 7\n",
    "n_y = 1\n",
    "layers_dims = (n_x, n_h, n_y)\n",
    "learning_rate = 0.0075"
   ]
  },
  {
   "cell_type": "code",
   "execution_count": 278,
   "metadata": {},
   "outputs": [
    {
     "name": "stdout",
     "output_type": "stream",
     "text": [
      "Cost after iteration 0: 0.6854034927859395\n",
      "Cost after iteration 100: 0.5148640200352117\n",
      "Cost after iteration 200: 0.47548658163402546\n",
      "Cost after iteration 300: 0.434326624703662\n",
      "Cost after iteration 400: 0.4072721368650354\n",
      "Cost after iteration 500: 0.3803315964965862\n",
      "Cost after iteration 600: 0.3560888183869984\n",
      "Cost after iteration 700: 0.33475282164895726\n",
      "Cost after iteration 800: 0.32145380189097295\n",
      "Cost after iteration 900: 0.29711907281767136\n",
      "Cost after iteration 1000: 0.2220709819468489\n",
      "Cost after iteration 1100: 0.14167497012425218\n",
      "Cost after iteration 1200: 0.1250275707051798\n",
      "Cost after iteration 1300: 0.12750538544301668\n",
      "Cost after iteration 1400: 1.0525577572198057\n",
      "Cost after iteration 1500: 0.07757911494256302\n",
      "Cost after iteration 1600: 0.064002229761632\n",
      "Cost after iteration 1700: 0.04954796477830355\n",
      "Cost after iteration 1800: 0.03646988520311604\n",
      "Cost after iteration 1900: 0.029299187828709553\n",
      "Cost after iteration 1999: 0.024324332509235106\n"
     ]
    }
   ],
   "source": [
    "\n",
    "X = train_x\n",
    "Y = train_set_y\n",
    "num_iterations = 2000\n",
    "print_cost=True\n",
    "\n",
    "np.random.seed(1)\n",
    "grads = {}\n",
    "costs = []                              # to keep track of the cost\n",
    "m = X.shape[1]                           # number of examples\n",
    "(n_x, n_h, n_y) = layers_dims\n",
    "\n",
    "# Initialize parameters dictionary, by calling one of the functions you'd previously implemented\n",
    "#(≈ 1 line of code)\n",
    "# parameters = ...\n",
    "# YOUR CODE STARTS HERE\n",
    "parameters = initialize_parameters(n_x, n_h, n_y)\n",
    "# YOUR CODE ENDS HERE\n",
    "\n",
    "# Get W1, b1, W2 and b2 from the dictionary parameters.\n",
    "W1 = parameters[\"W1\"]\n",
    "b1 = parameters[\"b1\"]\n",
    "W2 = parameters[\"W2\"]\n",
    "b2 = parameters[\"b2\"]\n",
    "\n",
    "# Loop (gradient descent)\n",
    "\n",
    "for i in range(0, num_iterations):\n",
    "\n",
    "    # Forward propagation: LINEAR -> RELU -> LINEAR -> SIGMOID. Inputs: \"X, W1, b1, W2, b2\". Output: \"A1, cache1, A2, cache2\".\n",
    "    #(≈ 2 lines of code)\n",
    "    # A1, cache1 = ...\n",
    "    # A2, cache2 = ...\n",
    "    # YOUR CODE STARTS HERE\n",
    "    A1, cache1 = linear_activation_forward(X, W1, b1, \"relu\")\n",
    "    A2, cache2 = linear_activation_forward(A1, W2, b2, \"sigmoid\")\n",
    "    # YOUR CODE ENDS HERE\n",
    "\n",
    "    # Compute cost\n",
    "    #(≈ 1 line of code)\n",
    "    # cost = ...\n",
    "    # YOUR CODE STARTS HERE\n",
    "    m = Y.shape[0]\n",
    "\n",
    "    # Compute loss from aL and y.\n",
    "    cost = (1./m) * (-np.dot(Y,np.log(A2).T) - np.dot(1-Y, np.log(1-A2).T))\n",
    "\n",
    "    cost = np.squeeze(cost)      # To make sure your cost's shape is what we expect (e.g. this turns [[17]] into 17).\n",
    "    assert(cost.shape == ())\n",
    "\n",
    "    # YOUR CODE ENDS HERE\n",
    "\n",
    "    # Initializing backward propagation\n",
    "    dA2 = - (np.divide(Y, A2) - np.divide(1 - Y, 1 - A2))\n",
    "\n",
    "    # Backward propagation. Inputs: \"dA2, cache2, cache1\". Outputs: \"dA1, dW2, db2; also dA0 (not used), dW1, db1\".\n",
    "    #(≈ 2 lines of code)\n",
    "    # dA1, dW2, db2 = ...\n",
    "    # dA0, dW1, db1 = ...\n",
    "    # YOUR CODE STARTS HERE\n",
    "    dA1, dW2, db2 = linear_activation_backward(dA2, cache2, \"sigmoid\")\n",
    "    dA0, dW1, db1 = linear_activation_backward(dA1, cache1, \"relu\")\n",
    "    # YOUR CODE ENDS HERE\n",
    "\n",
    "    # Set grads['dWl'] to dW1, grads['db1'] to db1, grads['dW2'] to dW2, grads['db2'] to db2\n",
    "    grads['dW1'] = dW1\n",
    "    grads['db1'] = db1\n",
    "    grads['dW2'] = dW2\n",
    "    grads['db2'] = db2\n",
    "\n",
    "    # Update parameters.\n",
    "    #(approx. 1 line of code)\n",
    "    parameters = update_parameters(parameters, grads, learning_rate)\n",
    "    # YOUR CODE STARTS HERE\n",
    "\n",
    "\n",
    "    # YOUR CODE ENDS HERE\n",
    "\n",
    "    # Retrieve W1, b1, W2, b2 from parameters\n",
    "    W1 = parameters[\"W1\"]\n",
    "    b1 = parameters[\"b1\"]\n",
    "    W2 = parameters[\"W2\"]\n",
    "    b2 = parameters[\"b2\"]\n",
    "\n",
    "    # Print the cost every 100 iterations\n",
    "    if print_cost and i % 100 == 0 or i == num_iterations - 1:\n",
    "        print(\"Cost after iteration {}: {}\".format(i, np.squeeze(cost)))\n",
    "    if i % 100 == 0 or i == num_iterations:\n",
    "        costs.append(cost)\n",
    "\n"
   ]
  },
  {
   "cell_type": "code",
   "execution_count": 280,
   "metadata": {},
   "outputs": [
    {
     "data": {
      "image/png": "[encoded data removed]",
      "text/plain": [
       "<Figure size 432x288 with 1 Axes>"
      ]
     },
     "metadata": {
      "needs_background": "light"
     },
     "output_type": "display_data"
    }
   ],
   "source": [
    "plot_costs(costs, learning_rate)"
   ]
  },
  {
   "cell_type": "code",
   "execution_count": 281,
   "metadata": {},
   "outputs": [
    {
     "name": "stdout",
     "output_type": "stream",
     "text": [
      "Accuracy: 0.9980392156862745\n"
     ]
    }
   ],
   "source": [
    "predictions_train = predict(train_x, train_y, parameters)"
   ]
  },
  {
   "cell_type": "code",
   "execution_count": 295,
   "metadata": {},
   "outputs": [
    {
     "name": "stdout",
     "output_type": "stream",
     "text": [
      "Accuracy: 0.6544117647058824\n"
     ]
    }
   ],
   "source": [
    "predictions_test = predict(test_x, test_set_y, parameters)"
   ]
  },
  {
   "cell_type": "code",
   "execution_count": 1,
   "metadata": {},
   "outputs": [],
   "source": [
    "layers_dims = [120000, 20, 7, 5, 1] #  4-layer model"
   ]
  },
  {
   "cell_type": "code",
   "execution_count": 3,
   "metadata": {},
   "outputs": [],
   "source": [
    "# GRADED FUNCTION: L_layer_model\n",
    "\n",
    "def L_layer_model(X, Y, layers_dims, learning_rate = 0.0075, num_iterations = 3000, print_cost=False):\n",
    "    \"\"\"\n",
    "    Implements a L-layer neural network: [LINEAR->RELU]*(L-1)->LINEAR->SIGMOID.\n",
    "    \n",
    "    Arguments:\n",
    "    X -- data, numpy array of shape (num_px * num_px * 3, number of examples)\n",
    "    Y -- true \"label\" vector (containing 0 if cat, 1 if non-cat), of shape (1, number of examples)\n",
    "    layers_dims -- list containing the input size and each layer size, of length (number of layers + 1).\n",
    "    learning_rate -- learning rate of the gradient descent update rule\n",
    "    num_iterations -- number of iterations of the optimization loop\n",
    "    print_cost -- if True, it prints the cost every 100 steps\n",
    "    \n",
    "    Returns:\n",
    "    parameters -- parameters learnt by the model. They can then be used to predict.\n",
    "    \"\"\"\n",
    "\n",
    "    np.random.seed(1)\n",
    "    costs = []                         # keep track of cost\n",
    "    \n",
    "    # Parameters initialization.\n",
    "    #(≈ 1 line of code)\n",
    "    # parameters = ...\n",
    "    # YOUR CODE STARTS HERE\n",
    "    parameters = initialize_parameters_deep(layers_dims)\n",
    "    \n",
    "    # YOUR CODE ENDS HERE\n",
    "    \n",
    "    # Loop (gradient descent)\n",
    "    for i in range(0, num_iterations):\n",
    "\n",
    "        # Forward propagation: [LINEAR -> RELU]*(L-1) -> LINEAR -> SIGMOID.\n",
    "        #(≈ 1 line of code)\n",
    "        # AL, caches = ...\n",
    "        # YOUR CODE STARTS HERE\n",
    "        AL, caches = L_model_forward(X, parameters)\n",
    "        \n",
    "        # YOUR CODE ENDS HERE\n",
    "        \n",
    "        # Compute cost.\n",
    "        #(≈ 1 line of code)\n",
    "        # cost = ...\n",
    "        # YOUR CODE STARTS HERE\n",
    "        m = Y.shape[0]\n",
    "\n",
    "        # Compute loss from aL and y.\n",
    "        cost = (1./m) * (-np.dot(Y,np.log(AL).T) - np.dot(1-Y, np.log(1-AL).T))\n",
    "\n",
    "        cost = np.squeeze(cost)      # To make sure your cost's shape is what we expect (e.g. this turns [[17]] into 17).\n",
    "\n",
    "        \n",
    "        # YOUR CODE ENDS HERE\n",
    "    \n",
    "        # Backward propagation.\n",
    "        #(≈ 1 line of code)\n",
    "        # grads = ...    \n",
    "        # YOUR CODE STARTS HERE\n",
    "        grads = L_model_backward(AL, Y, caches)\n",
    "        \n",
    "        # YOUR CODE ENDS HERE\n",
    " \n",
    "        # Update parameters.\n",
    "        #(≈ 1 line of code)\n",
    "        # parameters = ...\n",
    "        # YOUR CODE STARTS HERE\n",
    "        parameters = update_parameters(parameters, grads, learning_rate)\n",
    "        \n",
    "        # YOUR CODE ENDS HERE\n",
    "                \n",
    "        # Print the cost every 100 iterations\n",
    "        if print_cost and i % 100 == 0 or i == num_iterations - 1:\n",
    "            print(\"Cost after iteration {}: {}\".format(i, np.squeeze(cost)))\n",
    "        if i % 100 == 0 or i == num_iterations:\n",
    "            costs.append(cost)\n",
    "    \n",
    "    return parameters, costs"
   ]
  },
  {
   "cell_type": "code",
   "execution_count": 4,
   "metadata": {},
   "outputs": [
    {
     "ename": "NameError",
     "evalue": "name 'train_x' is not defined",
     "output_type": "error",
     "traceback": [
      "\u001b[1;31m---------------------------------------------------------------------------\u001b[0m",
      "\u001b[1;31mNameError\u001b[0m                                 Traceback (most recent call last)",
      "\u001b[1;32m<ipython-input-4-e0100b3bf689>\u001b[0m in \u001b[0;36m<module>\u001b[1;34m\u001b[0m\n\u001b[1;32m----> 1\u001b[1;33m \u001b[0mparameters\u001b[0m\u001b[1;33m,\u001b[0m \u001b[0mcosts\u001b[0m \u001b[1;33m=\u001b[0m \u001b[0mL_layer_model\u001b[0m\u001b[1;33m(\u001b[0m\u001b[0mtrain_x\u001b[0m\u001b[1;33m,\u001b[0m \u001b[0mtrain_set_y\u001b[0m\u001b[1;33m,\u001b[0m \u001b[0mlayers_dims\u001b[0m\u001b[1;33m,\u001b[0m \u001b[0mnum_iterations\u001b[0m \u001b[1;33m=\u001b[0m \u001b[1;36m1\u001b[0m\u001b[1;33m,\u001b[0m \u001b[0mprint_cost\u001b[0m \u001b[1;33m=\u001b[0m \u001b[1;32mFalse\u001b[0m\u001b[1;33m)\u001b[0m\u001b[1;33m\u001b[0m\u001b[1;33m\u001b[0m\u001b[0m\n\u001b[0m\u001b[0;32m      2\u001b[0m \u001b[1;33m\u001b[0m\u001b[0m\n\u001b[0;32m      3\u001b[0m \u001b[0mprint\u001b[0m\u001b[1;33m(\u001b[0m\u001b[1;34m\"Cost after first iteration: \"\u001b[0m \u001b[1;33m+\u001b[0m \u001b[0mstr\u001b[0m\u001b[1;33m(\u001b[0m\u001b[0mcosts\u001b[0m\u001b[1;33m[\u001b[0m\u001b[1;36m0\u001b[0m\u001b[1;33m]\u001b[0m\u001b[1;33m)\u001b[0m\u001b[1;33m)\u001b[0m\u001b[1;33m\u001b[0m\u001b[1;33m\u001b[0m\u001b[0m\n",
      "\u001b[1;31mNameError\u001b[0m: name 'train_x' is not defined"
     ]
    }
   ],
   "source": [
    "parameters, costs = L_layer_model(train_x, train_set_y, layers_dims, num_iterations = 1, print_cost = False)\n",
    "\n",
    "print(\"Cost after first iteration: \" + str(costs[0]))\n"
   ]
  },
  {
   "cell_type": "code",
   "execution_count": null,
   "metadata": {},
   "outputs": [
    {
     "name": "stdout",
     "output_type": "stream",
     "text": [
      "Cost after iteration 0: 0.6848009743813122\n",
      "Cost after iteration 100: 0.4930645802250646\n",
      "Cost after iteration 200: 0.45038359890629104\n",
      "Cost after iteration 300: 0.41368011764697515\n",
      "Cost after iteration 400: 0.38816179166500797\n",
      "Cost after iteration 500: 0.36192961362755244\n",
      "Cost after iteration 600: 0.3365825154456332\n",
      "Cost after iteration 700: 0.31288837205820735\n",
      "Cost after iteration 800: 0.36258635456119004\n",
      "Cost after iteration 900: 0.3721271946676443\n"
     ]
    }
   ],
   "source": [
    "parameters, costs = L_layer_model(train_x, train_set_y, layers_dims, num_iterations = 1000, print_cost = True)"
   ]
  },
  {
   "cell_type": "code",
   "execution_count": 312,
   "metadata": {},
   "outputs": [
    {
     "data": {
      "image/png": "[encoded data removed]",
      "text/plain": [
       "<Figure size 432x288 with 1 Axes>"
      ]
     },
     "metadata": {
      "needs_background": "light"
     },
     "output_type": "display_data"
    }
   ],
   "source": [
    "plot_costs(costs, learning_rate)"
   ]
  },
  {
   "cell_type": "code",
   "execution_count": 313,
   "metadata": {},
   "outputs": [
    {
     "name": "stdout",
     "output_type": "stream",
     "text": [
      "Accuracy: 0.8372549019607842\n"
     ]
    }
   ],
   "source": [
    "pred_train = predict(train_x, train_set_y, parameters)"
   ]
  },
  {
   "cell_type": "code",
   "execution_count": 314,
   "metadata": {},
   "outputs": [
    {
     "name": "stdout",
     "output_type": "stream",
     "text": [
      "Accuracy: 0.7279411764705883\n"
     ]
    }
   ],
   "source": [
    "pred_test = predict(test_x, test_set_y, parameters)"
   ]
  },
  {
   "cell_type": "code",
   "execution_count": null,
   "metadata": {},
   "outputs": [],
   "source": []
  }
 ],
 "metadata": {
  "kernelspec": {
   "display_name": "Python 3 (ipykernel)",
   "language": "python",
   "name": "python3"
  },
  "language_info": {
   "codemirror_mode": {
    "name": "ipython",
    "version": 3
   },
   "file_extension": ".py",
   "mimetype": "text/x-python",
   "name": "python",
   "nbconvert_exporter": "python",
   "pygments_lexer": "ipython3",
   "version": "3.8.13"
  }
 },
 "nbformat": 4,
 "nbformat_minor": 2
}
