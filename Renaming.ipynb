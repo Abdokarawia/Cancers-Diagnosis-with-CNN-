{
 "cells": [
  {
   "cell_type": "code",
   "execution_count": 1,
   "metadata": {},
   "outputs": [],
   "source": [
    "import os, sys"
   ]
  },
  {
   "cell_type": "code",
   "execution_count": 2,
   "metadata": {},
   "outputs": [],
   "source": [
    "Path_TUMOR = \"C:/Users/bahaa/Colorectal Cancer RESNET/Dataset/5000Images/Tumour Epithelium/\"\n",
    "tumor = os.listdir(Path_TUMOR)\n",
    "\n",
    "Path_STROMA = \"Dataset/5000Images/Simple Stroma/\"\n",
    "stroma = os.listdir(Path_STROMA)\n",
    "\n",
    "Path_COMPLEX = \"C:/Users/bahaa/Colorectal Cancer RESNET/Dataset/5000Images/Complex Stroma/\"\n",
    "complexs = os.listdir(Path_COMPLEX)\n",
    "\n",
    "Path_LYMPHO = \"C:/Users/bahaa/Colorectal Cancer RESNET/Dataset/5000Images/Immune Cell Conglomerates/\"\n",
    "lympho = os.listdir(Path_LYMPHO)\n",
    "\n",
    "Path_DEBRIS = \"C:/Users/bahaa/Colorectal Cancer RESNET/Dataset/5000Images/Debris and Mucus/\"\n",
    "debris = os.listdir(Path_DEBRIS)\n",
    "\n",
    "Path_MUCOSA = \"C:/Users/bahaa/Colorectal Cancer RESNET/Dataset/5000Images/Mucosal Glands/\"\n",
    "mucosa = os.listdir(Path_MUCOSA)\n",
    "\n",
    "Path_ADIPOSE = \"C:/Users/bahaa/Colorectal Cancer RESNET/Dataset/5000Images/Adipose Tissue/\"\n",
    "adipose = os.listdir(Path_ADIPOSE)\n",
    "\n",
    "\n",
    "Path_EMPTY = \"C:/Users/bahaa/Colorectal Cancer RESNET/Dataset/5000Images/Empty/\"\n",
    "empty = os.listdir(Path_EMPTY)"
   ]
  },
  {
   "cell_type": "code",
   "execution_count": 55,
   "metadata": {},
   "outputs": [],
   "source": [
    "def rename(path, items):\n",
    "    for item in items:\n",
    "        f, e = os.path.splitext(os.path.join(path+item))\n",
    "        os.rename(os.path.join(path+item), os.path.join(f+'.jpg'))\n"
   ]
  },
  {
   "cell_type": "code",
   "execution_count": 52,
   "metadata": {},
   "outputs": [],
   "source": [
    "rename(Path_TUMOR, tumor)"
   ]
  },
  {
   "cell_type": "code",
   "execution_count": 53,
   "metadata": {},
   "outputs": [],
   "source": [
    "rename(Path_ADIPOSE, adipose)\n",
    "rename(Path_COMPLEX, complexs)\n",
    "rename(Path_DEBRIS, debris)\n",
    "rename(Path_EMPTY, empty)\n",
    "rename(Path_LYMPHO, lympho)\n",
    "rename(Path_MUCOSA, mucosa)\n",
    "rename(Path_STROMA, stroma)"
   ]
  },
  {
   "cell_type": "code",
   "execution_count": 3,
   "metadata": {},
   "outputs": [],
   "source": [
    "def rename2(path,old,new):\n",
    "    for f in os.listdir(path):\n",
    "        os.rename(os.path.join(path, f), \n",
    "                  os.path.join(path, f.replace(old, new)))"
   ]
  },
  {
   "cell_type": "code",
   "execution_count": 4,
   "metadata": {},
   "outputs": [],
   "source": [
    "rename2(Path_ADIPOSE,'.tif', '')\n",
    "rename2(Path_COMPLEX, '.tif', '')\n",
    "rename2(Path_DEBRIS, '.tif', '')\n",
    "rename2(Path_EMPTY, '.tif', '')\n",
    "rename2(Path_LYMPHO, '.tif', '')\n",
    "rename2(Path_MUCOSA, '.tif', '')\n",
    "rename2(Path_STROMA, '.tif', '')"
   ]
  },
  {
   "cell_type": "code",
   "execution_count": null,
   "metadata": {},
   "outputs": [],
   "source": [
    "import sys\n",
    "from PIL import Image\n",
    "\n",
    "path = \"C:/Users/bahaa/Colorectal Cancer RESNET/Dataset/5000Images/Tumour Epithelium/\"\n",
    "\n",
    "for item in os.listdir(path):\n",
    "    im = Image.open(path+item)\n",
    "    outfile = os.path.splitext(os.path.join(path, item))[0] + \".jpg\"\n",
    "    im.save(outfile, \"JPEG\", quality=100)\n"
   ]
  },
  {
   "cell_type": "code",
   "execution_count": null,
   "metadata": {},
   "outputs": [],
   "source": []
  },
  {
   "cell_type": "code",
   "execution_count": 4,
   "metadata": {},
   "outputs": [
    {
     "name": "stdout",
     "output_type": "stream",
     "text": [
      "TIFF\n",
      "(150, 150)\n",
      "RGB\n"
     ]
    }
   ],
   "source": [
    "img = Image.open('10A0_CRC-Prim-HE-05_032.tif_Row_1051_Col_1501.jpg')\n",
    "# summarize some details about the image\n",
    "print(img.format)\n",
    "print(img.size)\n",
    "print(img.mode)"
   ]
  },
  {
   "cell_type": "code",
   "execution_count": null,
   "metadata": {},
   "outputs": [],
   "source": [
    "from PIL import Image\n",
    "\n",
    "image = Image.open(\"10A0_CRC-Prim-HE-05_032.tif_Row_1051_Col_1501.jpg\")\n",
    "image_rgb = image.convert('RGB')\n",
    "image_rgb.save('10A0_CRC-Prim-HE-05_032.tif_Row_1051_Col_1501.jpg.jpg')"
   ]
  },
  {
   "cell_type": "code",
   "execution_count": null,
   "metadata": {},
   "outputs": [],
   "source": []
  }
 ],
 "metadata": {
  "kernelspec": {
   "display_name": "Python 3 (ipykernel)",
   "language": "python",
   "name": "python3"
  },
  "language_info": {
   "codemirror_mode": {
    "name": "ipython",
    "version": 3
   },
   "file_extension": ".py",
   "mimetype": "text/x-python",
   "name": "python",
   "nbconvert_exporter": "python",
   "pygments_lexer": "ipython3",
   "version": "3.8.13"
  }
 },
 "nbformat": 4,
 "nbformat_minor": 2
}
