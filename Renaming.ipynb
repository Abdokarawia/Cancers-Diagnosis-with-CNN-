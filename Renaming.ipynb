{
 "cells": [
  {
   "cell_type": "code",
   "execution_count": 1,
   "metadata": {},
   "outputs": [],
   "source": [
    "import h5py\n",
    "from PIL import Image #It is a preferred image manipulation tool. In Python 3,\n",
    "# Pillow python library which is nothing but the upgradation of PIL only.\n",
    "import numpy as np\n",
    "from numpy import asarray\n",
    "import matplotlib.pyplot as plt\n",
    "import os, sys"
   ]
  },
  {
   "cell_type": "code",
   "execution_count": 21,
   "metadata": {},
   "outputs": [],
   "source": [
    "benign_path = \"C:/Users/bahaa/Breast Cancer using MoblieNet Arc/Dataset/benign/\"\n",
    "benign = os.listdir(benign_path)\n",
    "\n",
    "malignant_path = \"C:/Users/bahaa/Breast Cancer using MoblieNet Arc/Dataset/malignant/\"\n",
    "malignant = os.listdir(malignant_path)\n",
    "\n",
    "normal_path = \"C:/Users/bahaa/Breast Cancer using MoblieNet Arc/Dataset/normal/\"\n",
    "normal = os.listdir(normal_path)\n"
   ]
  },
  {
   "cell_type": "code",
   "execution_count": 22,
   "metadata": {},
   "outputs": [],
   "source": [
    "def rename(list_resize, path, cause):\n",
    "    for item in list_resize:\n",
    "        if os.path.isfile(path+item):\n",
    "            f, e = os.path.splitext(path+item)\n",
    "            os.rename(path+item, f+'- ' + str(cause)+'.png')\n",
    "            "
   ]
  },
  {
   "cell_type": "code",
   "execution_count": 25,
   "metadata": {},
   "outputs": [],
   "source": [
    "rename(normal, normal_path, 0)"
   ]
  },
  {
   "cell_type": "code",
   "execution_count": null,
   "metadata": {},
   "outputs": [],
   "source": []
  },
  {
   "cell_type": "code",
   "execution_count": 11,
   "metadata": {},
   "outputs": [],
   "source": []
  },
  {
   "cell_type": "code",
   "execution_count": 12,
   "metadata": {},
   "outputs": [],
   "source": []
  },
  {
   "cell_type": "code",
   "execution_count": null,
   "metadata": {},
   "outputs": [],
   "source": []
  },
  {
   "cell_type": "code",
   "execution_count": null,
   "metadata": {},
   "outputs": [],
   "source": []
  }
 ],
 "metadata": {
  "kernelspec": {
   "display_name": "Python 3 (ipykernel)",
   "language": "python",
   "name": "python3"
  },
  "language_info": {
   "codemirror_mode": {
    "name": "ipython",
    "version": 3
   },
   "file_extension": ".py",
   "mimetype": "text/x-python",
   "name": "python",
   "nbconvert_exporter": "python",
   "pygments_lexer": "ipython3",
   "version": "3.8.13"
  }
 },
 "nbformat": 4,
 "nbformat_minor": 2
}
